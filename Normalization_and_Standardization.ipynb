{
  "nbformat": 4,
  "nbformat_minor": 0,
  "metadata": {
    "colab": {
      "provenance": [],
      "authorship_tag": "ABX9TyPuQlzgYhhEwm0rW9PoUcuc",
      "include_colab_link": true
    },
    "kernelspec": {
      "name": "python3",
      "display_name": "Python 3"
    },
    "language_info": {
      "name": "python"
    }
  },
  "cells": [
    {
      "cell_type": "markdown",
      "metadata": {
        "id": "view-in-github",
        "colab_type": "text"
      },
      "source": [
        "<a href=\"https://colab.research.google.com/github/HARSH08072002/Data-Science-Practice-Codes/blob/main/Normalization_and_Standardization.ipynb\" target=\"_parent\"><img src=\"https://colab.research.google.com/assets/colab-badge.svg\" alt=\"Open In Colab\"/></a>"
      ]
    },
    {
      "cell_type": "code",
      "execution_count": null,
      "metadata": {
        "colab": {
          "base_uri": "https://localhost:8080/"
        },
        "id": "1EtwgouJ7bnb",
        "outputId": "2c0abe2e-8c80-4ec0-8d1e-6faaa7267f37"
      },
      "outputs": [
        {
          "output_type": "stream",
          "name": "stdout",
          "text": [
            "[[0.00575283 0.01725849 0.02301132 0.37968676 0.44872071 0.24737167\n",
            "  0.51775467 0.56953014]]\n"
          ]
        }
      ],
      "source": [
        "from sklearn import preprocessing\n",
        "import numpy as np\n",
        "\n",
        "numpy_array = np.array([1,3,4,66,78,43,90,99])\n",
        "normalized_array = preprocessing.normalize([numpy_array])\n",
        "print(normalized_array)"
      ]
    },
    {
      "cell_type": "code",
      "source": [
        "from sklearn.preprocessing import StandardScaler\n",
        "import numpy as np\n",
        "\n",
        "data = [0,0],[2,2],[3,3],[9,9]\n",
        "scaler = StandardScaler()\n",
        "scaler.fit(data)\n",
        "print(scaler.transform(data))"
      ],
      "metadata": {
        "colab": {
          "base_uri": "https://localhost:8080/"
        },
        "id": "LFp21-H19uZx",
        "outputId": "d320ddc8-0651-47d5-d2c0-5c20ea2e11b6"
      },
      "execution_count": null,
      "outputs": [
        {
          "output_type": "stream",
          "name": "stdout",
          "text": [
            "[[-1.04349839 -1.04349839]\n",
            " [-0.4472136  -0.4472136 ]\n",
            " [-0.1490712  -0.1490712 ]\n",
            " [ 1.63978318  1.63978318]]\n"
          ]
        }
      ]
    },
    {
      "cell_type": "code",
      "source": [],
      "metadata": {
        "id": "kBtX2TH2-eKM"
      },
      "execution_count": null,
      "outputs": []
    }
  ]
}